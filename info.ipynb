{
 "cells": [
  {
   "attachments": {},
   "cell_type": "markdown",
   "metadata": {},
   "source": [
    "### Softmax function\n",
    "$$\\frac{e^{p_i}}{\\sum_i e^{p_i}}$$"
   ]
  },
  {
   "attachments": {},
   "cell_type": "markdown",
   "metadata": {},
   "source": [
    "### Cross entropy function\n",
    "$$-\\sum_c \\text{Ob}_c \\ln \\text{Pr}_c "
   ]
  },
  {
   "attachments": {},
   "cell_type": "markdown",
   "metadata": {},
   "source": [
    "### Minus -ln [0,1]\n",
    "<img src=\"minus_ln.png\" alt=\"MarineGEO circle logo\" style=\"height: 400px; width:400px;\"/>"
   ]
  },
  {
   "attachments": {},
   "cell_type": "markdown",
   "metadata": {},
   "source": []
  },
  {
   "cell_type": "code",
   "execution_count": 3,
   "metadata": {},
   "outputs": [
    {
     "name": "stdout",
     "output_type": "stream",
     "text": [
      "tensor([[[ 0.1808, -0.0700],\n",
      "         [-0.3596, -0.9152],\n",
      "         [ 0.6258,  0.0255],\n",
      "         [ 0.9545,  0.0643]],\n",
      "\n",
      "        [[ 0.3612,  1.1679],\n",
      "         [-1.3499, -0.5102],\n",
      "         [ 0.2360, -0.2398],\n",
      "         [-0.9211,  1.5433]]])\n"
     ]
    }
   ],
   "source": [
    "import torch\n",
    "torch.manual_seed(1337)\n",
    "B,T,C = 2,4,2\n",
    "x = torch.randn(B,T,C)\n",
    "print(x)"
   ]
  },
  {
   "cell_type": "code",
   "execution_count": 6,
   "metadata": {},
   "outputs": [
    {
     "name": "stdout",
     "output_type": "stream",
     "text": [
      "tensor([[[ 0.1808, -0.0700],\n",
      "         [-0.0894, -0.4926],\n",
      "         [ 0.1490, -0.3199],\n",
      "         [ 0.3504, -0.2238]],\n",
      "\n",
      "        [[ 0.3612,  1.1679],\n",
      "         [-0.4944,  0.3289],\n",
      "         [-0.2509,  0.1393],\n",
      "         [-0.4185,  0.4903]]])\n"
     ]
    }
   ],
   "source": [
    "xbow = torch.zeros(B,T,C)\n",
    "for b in range(B):\n",
    "    for t in range(T):\n",
    "        xprev = x[b,:t+1]\n",
    "        xbow[b,t] = torch.mean(xprev,0)\n",
    "print(xbow) "
   ]
  },
  {
   "cell_type": "code",
   "execution_count": 14,
   "metadata": {},
   "outputs": [
    {
     "name": "stdout",
     "output_type": "stream",
     "text": [
      "tensor([[1., 0., 0.],\n",
      "        [1., 1., 0.],\n",
      "        [1., 1., 1.]])\n",
      "tensor([[1.0000, 0.0000, 0.0000],\n",
      "        [0.5000, 0.5000, 0.0000],\n",
      "        [0.3333, 0.3333, 0.3333]])\n",
      "tensor([[2., 7.],\n",
      "        [6., 4.],\n",
      "        [6., 5.]])\n",
      "tensor([[2.0000, 7.0000],\n",
      "        [4.0000, 5.5000],\n",
      "        [4.6667, 5.3333]])\n"
     ]
    }
   ],
   "source": [
    "torch.manual_seed(42)\n",
    "a = torch.tril(torch.ones(3,3))\n",
    "print(a)\n",
    "rowsums = torch.sum(a, 1, keepdim=True)\n",
    "a = a / rowsums\n",
    "print(a)   \n",
    "b = torch.randint(0,10,(3,2)).float()\n",
    "print(b)\n",
    "c = a @ b\n",
    "print(c)\n",
    "\n",
    " "
   ]
  },
  {
   "cell_type": "code",
   "execution_count": 8,
   "metadata": {},
   "outputs": [
    {
     "name": "stdout",
     "output_type": "stream",
     "text": [
      "tensor([1., 1., 1.])\n",
      "tensor([[1.0000, 0.0000, 0.0000],\n",
      "        [0.5000, 0.5000, 0.0000],\n",
      "        [0.3333, 0.3333, 0.3333]])\n"
     ]
    }
   ],
   "source": [
    "row_sums = torch.sum(a, dim=1)  # Calculate the sum of each row\n",
    "print(row_sums)\n",
    "# Divide each row by its summation\n",
    "result = a / row_sums.view(-1, 1)\n",
    "\n",
    "print(result)"
   ]
  },
  {
   "cell_type": "code",
   "execution_count": 12,
   "metadata": {},
   "outputs": [
    {
     "name": "stdout",
     "output_type": "stream",
     "text": [
      "tensor([ 0.0096, -1.0961, -0.6700, -0.1880, -0.9494,  0.0321,  0.2431, -0.5684,\n",
      "        -0.2799,  1.1602])\n",
      "tensor([-0.0985, -0.7441, -0.1653, -0.2658,  0.6157,  0.2532, -0.1613,  0.3949,\n",
      "         0.4059, -0.3236,  0.6973,  0.1065,  0.9914, -0.0178, -0.5851, -0.3494,\n",
      "        -0.6643, -0.2646,  0.1990, -0.0850, -0.0412, -0.7607,  0.7153, -0.1720,\n",
      "         0.5302, -0.2223,  0.4829, -0.0497, -0.5736,  0.0923, -0.9671, -0.0611,\n",
      "        -0.6345,  0.5670,  0.3996, -0.1787,  0.3540, -0.0903,  0.6066, -0.6204,\n",
      "         0.0192, -0.0789, -0.0211, -0.8041, -0.5403,  0.1857, -0.0247,  0.5040,\n",
      "        -0.8992, -0.8430], grad_fn=<AddBackward0>)\n"
     ]
    }
   ],
   "source": [
    "import torch\n",
    "import torch.nn as nn\n",
    "\n",
    "# Define input and output dimensions\n",
    "input_dim = 10\n",
    "output_dim = 50\n",
    "\n",
    "# Create an instance of nn.Linear\n",
    "linear_layer = nn.Linear(input_dim, output_dim)\n",
    "\n",
    "# Example input data\n",
    "input_data = torch.randn(input_dim)  # Assuming a batch size of 32\n",
    "\n",
    "# Pass the input data through the linear layer\n",
    "output = linear_layer(input_data)\n",
    "print(input_data)\n",
    "print(output)"
   ]
  },
  {
   "cell_type": "code",
   "execution_count": 23,
   "metadata": {},
   "outputs": [
    {
     "name": "stdout",
     "output_type": "stream",
     "text": [
      "tensor([5])\n",
      "tensor([[-1.0473,  1.2665, -0.3834, -0.5722,  0.3036,  0.6631, -0.9857, -0.4126,\n",
      "          1.9631,  0.4648,  0.0355, -0.3117, -0.6701, -0.7294,  0.0769, -0.8528,\n",
      "          0.4954,  0.0936, -0.2150, -0.6704, -0.6205,  0.8353, -0.3811,  0.5014,\n",
      "          0.3124,  0.4451,  0.0896,  0.2643,  1.1769,  0.3203]],\n",
      "       grad_fn=<EmbeddingBackward0>)\n"
     ]
    }
   ],
   "source": [
    "import torch\n",
    "import torch.nn as nn\n",
    "\n",
    "# Define vocabulary size and embedding dimension\n",
    "vocabulary_size = 10000\n",
    "embedding_dim = 30\n",
    "\n",
    "# Create an instance of nn.Embedding\n",
    "embedding_layer = nn.Embedding(vocabulary_size, embedding_dim)\n",
    "\n",
    "# Example input indices\n",
    "input_indices = torch.LongTensor([5])\n",
    "print(input_indices)\n",
    "# Pass the input indices through the embedding layer\n",
    "embedded_output = embedding_layer(input_indices)\n",
    "\n",
    "print(embedded_output)"
   ]
  },
  {
   "cell_type": "code",
   "execution_count": 2,
   "metadata": {},
   "outputs": [
    {
     "name": "stdout",
     "output_type": "stream",
     "text": [
      "6\n"
     ]
    }
   ],
   "source": [
    "class Vector():\n",
    "    def __init__(self, x, y):\n",
    "        self.x = x\n",
    "        self.y = y\n",
    "\n",
    "    def __add__(self, other):\n",
    "        x = self.x + other.x\n",
    "        y = self.y + other.y\n",
    "        return Vector(x, y)\n",
    "\n",
    "    def __repr__(self):\n",
    "        return f'Vector({self.x}, {self.y})'\n",
    "    \n",
    "    def asd(self):\n",
    "        self.df=3\n",
    "\n",
    "a = Vector(1, 2)\n",
    "a.foo = lambda x: x + 1\n",
    "foo_prev = a.foo\n",
    "a.foo = lambda x: 2 * foo_prev(x)\n",
    "\n",
    "print(a.foo(2))\n",
    "# delete a.foo\n",
    "#del a.foo\n",
    "#a.asd()\n",
    "#print(a.df)\n",
    "\n",
    "\n"
   ]
  },
  {
   "cell_type": "code",
   "execution_count": 4,
   "metadata": {},
   "outputs": [
    {
     "name": "stdout",
     "output_type": "stream",
     "text": [
      "tensor([2, 4, 6, 8])\n"
     ]
    }
   ],
   "source": [
    "import torch\n",
    "\n",
    "a = torch.arange(2,10,2)\n",
    "print(a)"
   ]
  },
  {
   "cell_type": "code",
   "execution_count": null,
   "metadata": {},
   "outputs": [],
   "source": []
  }
 ],
 "metadata": {
  "kernelspec": {
   "display_name": "Python 3",
   "language": "python",
   "name": "python3"
  },
  "language_info": {
   "codemirror_mode": {
    "name": "ipython",
    "version": 3
   },
   "file_extension": ".py",
   "mimetype": "text/x-python",
   "name": "python",
   "nbconvert_exporter": "python",
   "pygments_lexer": "ipython3",
   "version": "3.11.3"
  },
  "orig_nbformat": 4
 },
 "nbformat": 4,
 "nbformat_minor": 2
}
